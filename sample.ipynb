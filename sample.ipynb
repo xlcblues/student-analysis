{
 "cells": [
  {
   "metadata": {
    "ExecuteTime": {
     "end_time": "2025-10-16T13:43:16.391029Z",
     "start_time": "2025-10-16T13:43:16.387928Z"
    }
   },
   "cell_type": "code",
   "source": [
    "import numpy as np\n",
    "import pandas as pd\n",
    "import re\n",
    "import openpyxl\n",
    "import chardet"
   ],
   "id": "28a96b608b258115",
   "outputs": [],
   "execution_count": 152
  },
  {
   "metadata": {
    "ExecuteTime": {
     "end_time": "2025-10-16T13:43:16.400759Z",
     "start_time": "2025-10-16T13:43:16.398444Z"
    }
   },
   "cell_type": "code",
   "source": [
    "# 检测数据类型\n",
    "def detect_encoding(file_path):\n",
    "    with open(file_path, 'rb') as f:\n",
    "        result = chardet.detect(f.read())\n",
    "    return result['encoding']"
   ],
   "id": "22d02ebcc08983b7",
   "outputs": [],
   "execution_count": 153
  },
  {
   "metadata": {
    "ExecuteTime": {
     "end_time": "2025-10-16T13:43:16.433289Z",
     "start_time": "2025-10-16T13:43:16.407565Z"
    }
   },
   "cell_type": "code",
   "source": [
    "# 加载数据\n",
    "print(\"1. 加载数据\")\n",
    "try:\n",
    "    encoding = detect_encoding('data/score.csv')\n",
    "    df = pd.read_csv('data/score.csv', sep=',', encoding=encoding)\n",
    "    print(f\"加载成功！共有{len(df)}条数据。\")\n",
    "\n",
    "except Exception as e:\n",
    "    print(f\"加载错误:{e}\")\n",
    "    exit()\n"
   ],
   "id": "9c6a0f87f11849c6",
   "outputs": [
    {
     "name": "stdout",
     "output_type": "stream",
     "text": [
      "1. 加载数据\n",
      "加载成功！共有77条数据。\n"
     ]
    }
   ],
   "execution_count": 154
  },
  {
   "metadata": {
    "ExecuteTime": {
     "end_time": "2025-10-16T13:43:16.448254Z",
     "start_time": "2025-10-16T13:43:16.440259Z"
    }
   },
   "cell_type": "code",
   "source": [
    "# 数据初始化\n",
    "print(\"2. 数据初始诊断\")\n",
    "print(f\"\\n数据集形状:{df.shape[0]}行, {df.shape[1]}列\")\n",
    "print(\"\\n前三条记录\")\n",
    "print(df.head(3))\n",
    "print(\"\\n数据类型和缺失值统计：\")\n",
    "print(df.info())\n",
    "print(\"\\n缺失值统计：\")\n",
    "print(df.isnull().sum())"
   ],
   "id": "e3f41a54ad874bac",
   "outputs": [
    {
     "name": "stdout",
     "output_type": "stream",
     "text": [
      "2. 数据初始诊断\n",
      "\n",
      "数据集形状:77行, 11列\n",
      "\n",
      "前三条记录\n",
      "       fNAME     lNAME  Age  gender country  residence  entryEXAM  \\\n",
      "0  Christina    Binger   44  Female  Norway    Private         72   \n",
      "1       Alex  Walekhwa   60       M   Kenya    Private         79   \n",
      "2     Philip       Leo   25    Male  Uganda  Sognsvann         55   \n",
      "\n",
      "  prevEducation  studyHOURS  Python  DB  \n",
      "0       Masters         158    59.0  55  \n",
      "1       Diploma         150    60.0  75  \n",
      "2    HighSchool         130    74.0  50  \n",
      "\n",
      "数据类型和缺失值统计：\n",
      "<class 'pandas.core.frame.DataFrame'>\n",
      "RangeIndex: 77 entries, 0 to 76\n",
      "Data columns (total 11 columns):\n",
      " #   Column         Non-Null Count  Dtype  \n",
      "---  ------         --------------  -----  \n",
      " 0   fNAME          77 non-null     object \n",
      " 1   lNAME          77 non-null     object \n",
      " 2   Age            77 non-null     int64  \n",
      " 3   gender         77 non-null     object \n",
      " 4   country        77 non-null     object \n",
      " 5   residence      77 non-null     object \n",
      " 6   entryEXAM      77 non-null     int64  \n",
      " 7   prevEducation  77 non-null     object \n",
      " 8   studyHOURS     77 non-null     int64  \n",
      " 9   Python         75 non-null     float64\n",
      " 10  DB             77 non-null     int64  \n",
      "dtypes: float64(1), int64(4), object(6)\n",
      "memory usage: 6.7+ KB\n",
      "None\n",
      "\n",
      "缺失值统计：\n",
      "fNAME            0\n",
      "lNAME            0\n",
      "Age              0\n",
      "gender           0\n",
      "country          0\n",
      "residence        0\n",
      "entryEXAM        0\n",
      "prevEducation    0\n",
      "studyHOURS       0\n",
      "Python           2\n",
      "DB               0\n",
      "dtype: int64\n"
     ]
    }
   ],
   "execution_count": 155
  },
  {
   "metadata": {
    "ExecuteTime": {
     "end_time": "2025-10-16T13:43:16.465923Z",
     "start_time": "2025-10-16T13:43:16.457710Z"
    }
   },
   "cell_type": "code",
   "source": [
    "# 数据规范化\n",
    "print(\"\\n3. 文本数据标准化\")\n",
    "\n",
    "def clean_text_data(df):\n",
    "\n",
    "    # 清理性别\n",
    "    def clean_gender(text):\n",
    "        gender_mapper = {\n",
    "            'Male': 'Male', 'M': 'Male', 'MALE': 'Male',\n",
    "            'Female': 'Female', 'F': 'Female', 'female': 'Female'\n",
    "        }\n",
    "        return gender_mapper.get(str(text).title(), str(text).title())\n",
    "\n",
    "    #学校清理\n",
    "    edu_mapping = {\n",
    "        'Bachelors': 'Bachelors', 'Bachelor': 'Bachelors', 'barchelors': 'Bachelors',\n",
    "        'Barrrchelors': 'Bachelors', 'HighSchool': 'High School', 'High School': 'High School',\n",
    "        'Masters': 'Masters', 'Diploma': 'Diploma', 'Doctorate': 'Doctorate'\n",
    "    }\n",
    "\n",
    "    # 清理居住地\n",
    "    def clean_residence(text):\n",
    "        text = str(text).replace('_', ' ').title()\n",
    "        if 'Bi' in text and 'Residence' in text:\n",
    "            return 'BI Residence'\n",
    "        if text == 'Biresidence':\n",
    "            return 'BI Residence'\n",
    "        return text.replace('-', ' ').title()\n",
    "\n",
    "    # 国家清理\n",
    "    country_corrections = {\n",
    "        'Rsa': 'South Africa',\n",
    "        'South Africa': 'South Africa',\n",
    "        'Norge': 'Norway',\n",
    "        'Norway': 'Norway',\n",
    "        'Kenya': 'Kenya',\n",
    "        'Uganda': 'Uganda',\n",
    "        'Somali': 'Somalia',\n",
    "        'Nigeria': 'Nigeria',\n",
    "        'England': 'UK',\n",
    "        'Uk': 'UK',\n",
    "        'United Kingdom': 'UK'\n",
    "    }\n",
    "\n",
    "    df['gender'] = df['gender'].apply(clean_gender)\n",
    "    df['residence'] = df['residence'].apply(clean_residence)\n",
    "    df['prevEducation'] = df['prevEducation'].str.title().replace(edu_mapping)\n",
    "    df['country'] = df['country'].str.title().replace(country_corrections)\n",
    "\n",
    "    return df\n",
    "\n",
    "df = clean_text_data(df)\n",
    "\n",
    "print(df.head(3))"
   ],
   "id": "d87154094d47fc13",
   "outputs": [
    {
     "name": "stdout",
     "output_type": "stream",
     "text": [
      "\n",
      "3. 文本数据标准化\n",
      "       fNAME     lNAME  Age  gender country  residence  entryEXAM  \\\n",
      "0  Christina    Binger   44  Female  Norway    Private         72   \n",
      "1       Alex  Walekhwa   60    Male   Kenya    Private         79   \n",
      "2     Philip       Leo   25    Male  Uganda  Sognsvann         55   \n",
      "\n",
      "  prevEducation  studyHOURS  Python  DB  \n",
      "0       Masters         158    59.0  55  \n",
      "1       Diploma         150    60.0  75  \n",
      "2    Highschool         130    74.0  50  \n"
     ]
    }
   ],
   "execution_count": 156
  },
  {
   "metadata": {
    "ExecuteTime": {
     "end_time": "2025-10-16T13:43:16.486179Z",
     "start_time": "2025-10-16T13:43:16.472394Z"
    }
   },
   "cell_type": "code",
   "source": [
    "# 处理缺失值\n",
    "print(\"4. 处理缺失值\")\n",
    "\n",
    "# 将空值转化为NaN\n",
    "numerical_cols = ['Age', 'DB', 'Python', 'studyHOURS', 'entryEXAM']\n",
    "for col in numerical_cols:\n",
    "    df[col] = pd.to_numeric(df[col], errors='coerce')\n",
    "\n",
    "# 显示原始缺失值\n",
    "print(\"缺失值统计（处理前）：\")\n",
    "print(df[numerical_cols].isnull().sum())\n",
    "\n",
    "# 使用组中位数填充\n",
    "for col in ['DB', 'Python']:\n",
    "    df[col] = df.groupby(['gender', 'prevEducation'])[col].transform(\n",
    "        lambda x: x.fillna(x.median())\n",
    "    )\n",
    "\n",
    "# 使用中位数填充\n",
    "df.fillna(df[numerical_cols].median(), inplace=True)\n",
    "\n",
    "print(\"缺失值统计（处理后）:\")\n",
    "print(df[numerical_cols].isnull().sum())"
   ],
   "id": "622ccd2858857d0",
   "outputs": [
    {
     "name": "stdout",
     "output_type": "stream",
     "text": [
      "4. 处理缺失值\n",
      "缺失值统计（处理前）：\n",
      "Age           0\n",
      "DB            0\n",
      "Python        2\n",
      "studyHOURS    0\n",
      "entryEXAM     0\n",
      "dtype: int64\n",
      "缺失值统计（处理后）:\n",
      "Age           0\n",
      "DB            0\n",
      "Python        0\n",
      "studyHOURS    0\n",
      "entryEXAM     0\n",
      "dtype: int64\n"
     ]
    }
   ],
   "execution_count": 157
  },
  {
   "metadata": {
    "ExecuteTime": {
     "end_time": "2025-10-16T13:43:16.497546Z",
     "start_time": "2025-10-16T13:43:16.491388Z"
    }
   },
   "cell_type": "code",
   "source": [
    "print(\"5. 异常值检测\")\n",
    "\n",
    "# 异常值检测函数\n",
    "def detect_outliers(df):\n",
    "\n",
    "    outliers_report = {\n",
    "        \"Age\": [],\n",
    "        \"entryEXAM\": [],\n",
    "        \"studyHOURS\": [],\n",
    "        \"Python\": [],\n",
    "        \"DB\": []\n",
    "    }\n",
    "\n",
    "    # 检测年龄异常\n",
    "    age_outliers = df[(df['Age'] > 70) | (df['Age'] < 16)]\n",
    "    if not age_outliers.empty:\n",
    "        print(f\"发现年龄异常值：{len(age_outliers)}个\")\n",
    "        outliers_report[\"Age\"] = age_outliers[['Age', 'fNAME', 'lNAME']].values.tolist()\n",
    "\n",
    "    # 检测其他异常\n",
    "    def log_outliers(col_name, threshold, direction = 'below'):\n",
    "        condition = df[col_name] < threshold if direction == 'below' else df[col_name] > threshold\n",
    "        outliers = df[condition]\n",
    "        if not outliers.empty:\n",
    "            print(f\"发现异常值：{len(outliers)}个\")\n",
    "            outliers_report[col_name] = outliers[['fNAME', 'lNAME', col_name]].values.tolist()\n",
    "\n",
    "    log_outliers(\"entryEXAM\", 10)\n",
    "    log_outliers(\"Python\", 10)\n",
    "    log_outliers(\"DB\", 10)\n",
    "    log_outliers(\"studyHOURS\", 0)\n",
    "\n",
    "    return outliers_report\n",
    "\n",
    "outliers = detect_outliers(df)\n",
    "print(outliers)"
   ],
   "id": "58f6eee0728f9f1f",
   "outputs": [
    {
     "name": "stdout",
     "output_type": "stream",
     "text": [
      "5. 异常值检测\n",
      "发现年龄异常值：1个\n",
      "{'Age': [[71, 'Perry', 'Rønning']], 'entryEXAM': [], 'studyHOURS': [], 'Python': [], 'DB': []}\n"
     ]
    }
   ],
   "execution_count": 158
  },
  {
   "metadata": {
    "ExecuteTime": {
     "end_time": "2025-10-16T13:43:16.510220Z",
     "start_time": "2025-10-16T13:43:16.504574Z"
    }
   },
   "cell_type": "code",
   "source": [
    "print(\"6. 数据增强\")\n",
    "\n",
    "# 区域分类\n",
    "def region_classifier(country):\n",
    "    nordics = ['Norway', 'Denmark', 'Sweden']\n",
    "    africa = ['Kenya', 'Uganda', 'South Africa', 'Nigeria', 'Somalia']\n",
    "    europe = ['Germany', 'Italy', 'France', 'Spain', 'Netherlands', 'UK']\n",
    "\n",
    "    if country in nordics:\n",
    "        return 'Nordics'\n",
    "    if country in africa:\n",
    "        return 'Africa'\n",
    "    if country in europe:\n",
    "        return 'Europe'\n",
    "\n",
    "# 学分转换\n",
    "def edu_level(edu):\n",
    "\n",
    "    edu_mapping = {\n",
    "        'High School': 1,\n",
    "        'Diploma': 2,\n",
    "        'Bachelors': 3,\n",
    "        'Masters': 4,\n",
    "        'Doctorate': 5\n",
    "    }\n",
    "\n",
    "    return edu_mapping.get(edu, 0)\n",
    "\n",
    "# 应用转换\n",
    "df['Region'] = df['country'].apply(region_classifier)\n",
    "df['edu_level'] = df['prevEducation'].apply(edu_level)\n",
    "df['Total_Score'] = df['Python'] + df['DB']\n",
    "\n",
    "# 表现评估\n",
    "df['Performance_Score'] = pd.cut(df['Total_Score'],\n",
    "                                 bins=[0, 100, 130, 160, 200],\n",
    "                                 labels=['D级', 'C级', 'B级', 'A级'])\n",
    "\n",
    "print(\"✅ 添加特征：Region, EduLevel, Total_Score, Performance_Level\")"
   ],
   "id": "7fbe6b5d05e754a8",
   "outputs": [
    {
     "name": "stdout",
     "output_type": "stream",
     "text": [
      "6. 数据增强\n",
      "✅ 添加特征：Region, EduLevel, Total_Score, Performance_Level\n"
     ]
    }
   ],
   "execution_count": 159
  },
  {
   "metadata": {
    "ExecuteTime": {
     "end_time": "2025-10-16T13:43:16.524752Z",
     "start_time": "2025-10-16T13:43:16.519425Z"
    }
   },
   "cell_type": "code",
   "source": [
    "# 最终数据质量报告\n",
    "print(\"7.生成最终质量报告\")\n",
    "\n",
    "quality_report = {\n",
    "    \"记录数\": len(df),\n",
    "    \"清洗后列数\": df.shape[1],\n",
    "    \"缺失值数量\": df.isnull().sum().sum(),\n",
    "    \"唯一值统计\": {\n",
    "        \"性别\": df['gender'].unique(),\n",
    "        \"国家\": \", \".join(sorted(df['country'].unique())),\n",
    "        \"居住类型\": \", \".join(df['residence'].unique())\n",
    "    },\n",
    "    \"异常值摘要\": outliers,\n",
    "    \"主要特征分布\": {\n",
    "        \"平均Python成绩\": round(df['Python'].mean(), 1),\n",
    "        \"平均DB成绩\": round(df['DB'].mean(), 1),\n",
    "        \"最高总分\": f\"{df['Total_Score'].max()} （{df.loc[df['Total_Score'].idxmax()], 'fName'}）\",\n",
    "        \"最积极学习者\": f\"{df['studyHOURS'].max()}小时（{df.loc[df['studyHOURS'].idxmax(), 'fNAME']}）\"\n",
    "    }\n",
    "}\n",
    "\n",
    "print(f\"⭐ 数据清洗完成！最终记录数: {len(df)}\")\n",
    "print(f\"⭐ Python平均分: {quality_report['主要特征分布']['平均Python成绩']}\")\n",
    "print(f\"⭐ DB平均分: {quality_report['主要特征分布']['平均DB成绩']}\")\n"
   ],
   "id": "7a0374af18dc3f90",
   "outputs": [
    {
     "name": "stdout",
     "output_type": "stream",
     "text": [
      "7.生成最终质量报告\n",
      "⭐ 数据清洗完成！最终记录数: 77\n",
      "⭐ Python平均分: 75.5\n",
      "⭐ DB平均分: 69.5\n"
     ]
    }
   ],
   "execution_count": 160
  },
  {
   "metadata": {
    "ExecuteTime": {
     "end_time": "2025-10-16T13:43:16.538026Z",
     "start_time": "2025-10-16T13:43:16.534586Z"
    }
   },
   "cell_type": "code",
   "source": [
    "# 数据保存\n",
    "print(\"9. 数据保存\")\n",
    "df.to_csv('data/cleaned_student_scores.csv', index=False)\n",
    "print(\"数据被保存到/data/cleaned_student_scores.csv中\")"
   ],
   "id": "e58144b9cb55d740",
   "outputs": [
    {
     "name": "stdout",
     "output_type": "stream",
     "text": [
      "9. 数据保存\n",
      "数据被保存到/data/cleaned_student_scores.csv中\n"
     ]
    }
   ],
   "execution_count": 161
  },
  {
   "metadata": {
    "ExecuteTime": {
     "end_time": "2025-10-16T13:43:16.555536Z",
     "start_time": "2025-10-16T13:43:16.551050Z"
    }
   },
   "cell_type": "code",
   "source": [
    "# 输出质量报告到MD文件（使用UTF-8编码）\n",
    "with open('data_quality_report.md', 'w', encoding='utf-8') as f:\n",
    "    f.write(\"# 学生数据质量评估报告\\n\\n\")\n",
    "    f.write(\"## 数据集摘要\\n\")\n",
    "    f.write(f\"- **总记录数**: {quality_report['记录数']}\\n\")\n",
    "    f.write(f\"- **清洗后缺失值**: {quality_report['缺失值数量']}\\n\")\n",
    "\n",
    "    f.write(\"\\n## 字段统计\\n\")\n",
    "    f.write(\"| 字段名 | 唯一值 |\\n\")\n",
    "    f.write(\"|--------|--------|\\n\")\n",
    "    f.write(f\"| 性别 | {', '.join(quality_report['唯一值统计']['性别'])} |\\n\")\n",
    "    f.write(f\"| 国家 | {quality_report['唯一值统计']['国家']} |\\n\")\n",
    "    f.write(f\"| 居住地 | {quality_report['唯一值统计']['居住类型']} |\\n\")\n",
    "\n",
    "    f.write(\"\\n## 异常值报告\\n\")\n",
    "    for col, values in outliers.items():\n",
    "        if values:\n",
    "            f.write(f\"### {col}异常\\n\")\n",
    "            f.write(\"| 姓名 | 值 |\\n\")\n",
    "            f.write(\"|------|----|\\n\")\n",
    "            for v in values:\n",
    "                f.write(f\"| {v[0]} {v[1]} | {v[2]} |\\n\")\n",
    "\n",
    "    f.write(\"\\n## 关键指标\\n\")\n",
    "    for k, v in quality_report['主要特征分布'].items():\n",
    "        f.write(f\"- **{k}**: {v}\\n\")\n",
    "\n",
    "print(\"📝 数据质量报告保存到: data_quality_report.md\")\n",
    "print(\"\\n✅ 数据清洗流程完成！\")"
   ],
   "id": "63ea325fc04d85fe",
   "outputs": [
    {
     "name": "stdout",
     "output_type": "stream",
     "text": [
      "📝 数据质量报告保存到: data_quality_report.md\n",
      "\n",
      "✅ 数据清洗流程完成！\n"
     ]
    }
   ],
   "execution_count": 162
  }
 ],
 "metadata": {
  "kernelspec": {
   "display_name": "Python 3",
   "language": "python",
   "name": "python3"
  },
  "language_info": {
   "codemirror_mode": {
    "name": "ipython",
    "version": 2
   },
   "file_extension": ".py",
   "mimetype": "text/x-python",
   "name": "python",
   "nbconvert_exporter": "python",
   "pygments_lexer": "ipython2",
   "version": "2.7.6"
  }
 },
 "nbformat": 4,
 "nbformat_minor": 5
}
