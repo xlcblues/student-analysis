{
 "cells": [
  {
   "metadata": {
    "ExecuteTime": {
     "end_time": "2025-10-15T13:52:14.948519Z",
     "start_time": "2025-10-15T13:52:14.946013Z"
    }
   },
   "cell_type": "code",
   "source": [
    "import numpy as np\n",
    "import pandas as pd\n",
    "import re\n",
    "import openpyxl\n",
    "import chardet"
   ],
   "id": "28a96b608b258115",
   "outputs": [],
   "execution_count": 54
  },
  {
   "metadata": {
    "ExecuteTime": {
     "end_time": "2025-10-15T13:52:14.957609Z",
     "start_time": "2025-10-15T13:52:14.952515Z"
    }
   },
   "cell_type": "code",
   "source": [
    "# 检测数据类型\n",
    "def detect_encoding(file_path):\n",
    "    with open(file_path, 'rb') as f:\n",
    "        result = chardet.detect(f.read())\n",
    "    return result['encoding']"
   ],
   "id": "22d02ebcc08983b7",
   "outputs": [],
   "execution_count": 55
  },
  {
   "metadata": {
    "ExecuteTime": {
     "end_time": "2025-10-15T13:52:14.989539Z",
     "start_time": "2025-10-15T13:52:14.964300Z"
    }
   },
   "cell_type": "code",
   "source": [
    "# 加载数据\n",
    "print(\"1. 加载数据\")\n",
    "try:\n",
    "    encoding = detect_encoding('data/score.csv')\n",
    "    df = pd.read_csv('data/score.csv', sep=',', encoding=encoding)\n",
    "    print(f\"加载成功！共有{len(df)}条数据。\")\n",
    "\n",
    "except Exception as e:\n",
    "    print(f\"加载错误:{e}\")\n",
    "    exit()\n"
   ],
   "id": "9c6a0f87f11849c6",
   "outputs": [
    {
     "name": "stdout",
     "output_type": "stream",
     "text": [
      "1. 加载数据\n",
      "加载成功！共有77条数据。\n"
     ]
    }
   ],
   "execution_count": 56
  },
  {
   "metadata": {
    "ExecuteTime": {
     "end_time": "2025-10-15T13:52:15.001459Z",
     "start_time": "2025-10-15T13:52:14.993276Z"
    }
   },
   "cell_type": "code",
   "source": [
    "# 数据初始化\n",
    "print(\"2. 数据初始诊断\")\n",
    "print(f\"\\n数据集形状:{df.shape[0]}行, {df.shape[1]}列\")\n",
    "print(\"\\n前三条记录\")\n",
    "print(df.head(3))\n",
    "print(\"\\n数据类型和缺失值统计：\")\n",
    "print(df.info())\n",
    "print(\"\\n缺失值统计：\")\n",
    "print(df.isnull().sum())"
   ],
   "id": "e3f41a54ad874bac",
   "outputs": [
    {
     "name": "stdout",
     "output_type": "stream",
     "text": [
      "2. 数据初始诊断\n",
      "\n",
      "数据集形状:77行, 11列\n",
      "\n",
      "前三条记录\n",
      "       fNAME     lNAME  Age  gender country  residence  entryEXAM  \\\n",
      "0  Christina    Binger   44  Female  Norway    Private         72   \n",
      "1       Alex  Walekhwa   60       M   Kenya    Private         79   \n",
      "2     Philip       Leo   25    Male  Uganda  Sognsvann         55   \n",
      "\n",
      "  prevEducation  studyHOURS  Python  DB  \n",
      "0       Masters         158    59.0  55  \n",
      "1       Diploma         150    60.0  75  \n",
      "2    HighSchool         130    74.0  50  \n",
      "\n",
      "数据类型和缺失值统计：\n",
      "<class 'pandas.core.frame.DataFrame'>\n",
      "RangeIndex: 77 entries, 0 to 76\n",
      "Data columns (total 11 columns):\n",
      " #   Column         Non-Null Count  Dtype  \n",
      "---  ------         --------------  -----  \n",
      " 0   fNAME          77 non-null     object \n",
      " 1   lNAME          77 non-null     object \n",
      " 2   Age            77 non-null     int64  \n",
      " 3   gender         77 non-null     object \n",
      " 4   country        77 non-null     object \n",
      " 5   residence      77 non-null     object \n",
      " 6   entryEXAM      77 non-null     int64  \n",
      " 7   prevEducation  77 non-null     object \n",
      " 8   studyHOURS     77 non-null     int64  \n",
      " 9   Python         75 non-null     float64\n",
      " 10  DB             77 non-null     int64  \n",
      "dtypes: float64(1), int64(4), object(6)\n",
      "memory usage: 6.7+ KB\n",
      "None\n",
      "\n",
      "缺失值统计：\n",
      "fNAME            0\n",
      "lNAME            0\n",
      "Age              0\n",
      "gender           0\n",
      "country          0\n",
      "residence        0\n",
      "entryEXAM        0\n",
      "prevEducation    0\n",
      "studyHOURS       0\n",
      "Python           2\n",
      "DB               0\n",
      "dtype: int64\n"
     ]
    }
   ],
   "execution_count": 57
  },
  {
   "metadata": {
    "ExecuteTime": {
     "end_time": "2025-10-15T13:52:15.016889Z",
     "start_time": "2025-10-15T13:52:15.008423Z"
    }
   },
   "cell_type": "code",
   "source": [
    "# 数据规范化\n",
    "print(\"\\n3. 文本数据标准化\")\n",
    "\n",
    "def clean_text_data(df):\n",
    "\n",
    "    # 清理性别\n",
    "    def clean_gender(text):\n",
    "        gender_mapper = {\n",
    "            'Male': 'Male', 'M': 'Male', 'MALE': 'Male',\n",
    "            'Female': 'Female', 'F': 'Female', 'female': 'Female'\n",
    "        }\n",
    "        return gender_mapper.get(str(text).title(), str(text).title())\n",
    "\n",
    "    #学校清理\n",
    "    edu_mapping = {\n",
    "        'Bachelors': 'Bachelors', 'Bachelor': 'Bachelors', 'barchelors': 'Bachelors',\n",
    "        'Barrrchelors': 'Bachelors', 'HighSchool': 'High School', 'High School': 'High School',\n",
    "        'Masters': 'Masters', 'Diploma': 'Diploma', 'Doctorate': 'Doctorate'\n",
    "    }\n",
    "\n",
    "    # 清理居住地\n",
    "    def clean_residence(text):\n",
    "        text = str(text).replace('_', ' ').title()\n",
    "        if 'Bi' in text and 'Residence' in text:\n",
    "            return 'BI Residence'\n",
    "        if text == 'Biresidence':\n",
    "            return 'BI Residence'\n",
    "        return text.replace('-', ' ').title()\n",
    "\n",
    "    # 国家清理\n",
    "    country_corrections = {\n",
    "        'Rsa': 'South Africa',\n",
    "        'South Africa': 'South Africa',\n",
    "        'Norge': 'Norway',\n",
    "        'Norway': 'Norway',\n",
    "        'Kenya': 'Kenya',\n",
    "        'Uganda': 'Uganda',\n",
    "        'Somali': 'Somalia',\n",
    "        'Nigeria': 'Nigeria',\n",
    "        'England': 'UK',\n",
    "        'Uk': 'UK',\n",
    "        'United Kingdom': 'UK'\n",
    "    }\n",
    "\n",
    "    df['gender'] = df['gender'].apply(clean_gender)\n",
    "    df['residence'] = df['residence'].apply(clean_residence)\n",
    "    df['prevEducation'] = df['prevEducation'].str.title().replace(edu_mapping)\n",
    "    df['country'] = df['country'].str.title().replace(country_corrections)\n",
    "\n",
    "    return df\n",
    "\n",
    "df = clean_text_data(df)\n",
    "\n",
    "print(df.head(3))"
   ],
   "id": "d87154094d47fc13",
   "outputs": [
    {
     "name": "stdout",
     "output_type": "stream",
     "text": [
      "\n",
      "3. 文本数据标准化\n",
      "       fNAME     lNAME  Age  gender country  residence  entryEXAM  \\\n",
      "0  Christina    Binger   44  Female  Norway    Private         72   \n",
      "1       Alex  Walekhwa   60    Male   Kenya    Private         79   \n",
      "2     Philip       Leo   25    Male  Uganda  Sognsvann         55   \n",
      "\n",
      "  prevEducation  studyHOURS  Python  DB  \n",
      "0       Masters         158    59.0  55  \n",
      "1       Diploma         150    60.0  75  \n",
      "2    Highschool         130    74.0  50  \n"
     ]
    }
   ],
   "execution_count": 58
  },
  {
   "metadata": {
    "ExecuteTime": {
     "end_time": "2025-10-15T14:07:42.594439Z",
     "start_time": "2025-10-15T14:07:42.579640Z"
    }
   },
   "cell_type": "code",
   "source": [
    "# 处理缺失值\n",
    "print(\"4. 处理缺失值\")\n",
    "\n",
    "# 将空值转化为NaN\n",
    "numerical_cols = ['Age', 'DB', 'Python', 'studyHOURS', 'entryEXAM']\n",
    "for col in numerical_cols:\n",
    "    df[col] = pd.to_numeric(df[col], errors='coerce')\n",
    "\n",
    "# 显示原始缺失值\n",
    "print(\"缺失值统计（处理前）：\")\n",
    "print(df[numerical_cols].isnull().sum())\n",
    "\n",
    "# 使用组中位数填充\n",
    "for col in ['DB', 'Python']:\n",
    "    df[col] = df.groupby(['gender', 'prevEducation'])[col].transform(\n",
    "        lambda x: x.fillna(x.median())\n",
    "    )\n",
    "\n",
    "# 使用中位数填充\n",
    "df.fillna(df[numerical_cols].median(), inplace=True)\n",
    "\n",
    "print(\"缺失值统计（处理后）:\")\n",
    "print(df[numerical_cols].isnull().sum())"
   ],
   "id": "622ccd2858857d0",
   "outputs": [
    {
     "name": "stdout",
     "output_type": "stream",
     "text": [
      "4. 处理缺失值\n",
      "缺失值统计（处理前）：\n",
      "Age           0\n",
      "DB            0\n",
      "Python        0\n",
      "studyHOURS    0\n",
      "entryEXAM     0\n",
      "dtype: int64\n",
      "缺失值统计（处理后）:\n",
      "Age           0\n",
      "DB            0\n",
      "Python        0\n",
      "studyHOURS    0\n",
      "entryEXAM     0\n",
      "dtype: int64\n",
      "        fNAME      lNAME  Age  gender       country  residence  entryEXAM  \\\n",
      "0   Christina     Binger   44  Female        Norway    Private         72   \n",
      "1        Alex   Walekhwa   60    Male         Kenya    Private         79   \n",
      "2      Philip        Leo   25    Male        Uganda  Sognsvann         55   \n",
      "3       Shoni  Hlongwane   22  Female  South Africa  Sognsvann         40   \n",
      "4       Maria   Kedibone   23  Female  South Africa  Sognsvann         65   \n",
      "..        ...        ...  ...     ...           ...        ...        ...   \n",
      "72      Clara    Bernard   43  Female        France    Private         80   \n",
      "73     Julian    Nielsen   31    Male       Denmark  Sognsvann         90   \n",
      "74     Sophie      Brown   33  Female            UK  Sognsvann         96   \n",
      "75       Leon      Bauer   35    Male       Germany  Sognsvann         90   \n",
      "76   Mohammed      Salim   31    Male       Somalia  Sognsvann         35   \n",
      "\n",
      "   prevEducation  studyHOURS  Python  DB  \n",
      "0        Masters         158    59.0  55  \n",
      "1        Diploma         150    60.0  75  \n",
      "2     Highschool         130    74.0  50  \n",
      "3    High School         120    78.0  44  \n",
      "4    High School         122    91.0  80  \n",
      "..           ...         ...     ...  ..  \n",
      "72     Bachelors         150    75.0  43  \n",
      "73       Masters         158    84.0  83  \n",
      "74       Masters         158    85.0  90  \n",
      "75       Masters         160    87.0  74  \n",
      "76       Masters         144    72.0  90  \n",
      "\n",
      "[77 rows x 11 columns]\n"
     ]
    }
   ],
   "execution_count": 62
  }
 ],
 "metadata": {
  "kernelspec": {
   "display_name": "Python 3",
   "language": "python",
   "name": "python3"
  },
  "language_info": {
   "codemirror_mode": {
    "name": "ipython",
    "version": 2
   },
   "file_extension": ".py",
   "mimetype": "text/x-python",
   "name": "python",
   "nbconvert_exporter": "python",
   "pygments_lexer": "ipython2",
   "version": "2.7.6"
  }
 },
 "nbformat": 4,
 "nbformat_minor": 5
}
