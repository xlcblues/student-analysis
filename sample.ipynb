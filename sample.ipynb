{
 "cells": [
  {
   "metadata": {
    "ExecuteTime": {
     "end_time": "2025-10-14T14:13:49.162776Z",
     "start_time": "2025-10-14T14:13:48.751066Z"
    }
   },
   "cell_type": "code",
   "outputs": [],
   "execution_count": 1,
   "source": [
    "import numpy as np\n",
    "import pandas as pd\n",
    "import re\n",
    "import openpyxl\n",
    "import chardet"
   ],
   "id": "28a96b608b258115"
  },
  {
   "metadata": {
    "ExecuteTime": {
     "end_time": "2025-10-14T15:05:33.550425Z",
     "start_time": "2025-10-14T15:05:33.546923Z"
    }
   },
   "cell_type": "code",
   "source": [
    "# 检测数据类型\n",
    "def detect_encoding(file_path):\n",
    "    with open(file_path, 'rb') as f:\n",
    "        result = chardet.detect(f.read())\n",
    "    return result['encoding']"
   ],
   "id": "22d02ebcc08983b7",
   "outputs": [],
   "execution_count": 22
  },
  {
   "metadata": {
    "ExecuteTime": {
     "end_time": "2025-10-14T15:05:35.315685Z",
     "start_time": "2025-10-14T15:05:35.289268Z"
    }
   },
   "cell_type": "code",
   "source": [
    "# 加载数据\n",
    "print(\"1. 加载数据\")\n",
    "try:\n",
    "    encoding = detect_encoding('data/score.csv')\n",
    "    df = pd.read_csv('data/score.csv', sep=',', encoding=encoding)\n",
    "    print(f\"加载成功！共有{len(df)}条数据。\")\n",
    "\n",
    "except Exception as e:\n",
    "    print(f\"加载错误:{e}\")\n",
    "    exit()\n"
   ],
   "id": "9c6a0f87f11849c6",
   "outputs": [
    {
     "name": "stdout",
     "output_type": "stream",
     "text": [
      "1. 加载数据\n",
      "加载成功！共有77条数据。\n"
     ]
    }
   ],
   "execution_count": 23
  },
  {
   "metadata": {
    "ExecuteTime": {
     "end_time": "2025-10-14T15:07:34.671860Z",
     "start_time": "2025-10-14T15:07:34.662579Z"
    }
   },
   "cell_type": "code",
   "source": [
    "# 数据初始化\n",
    "print(\"2. 数据初始诊断\")\n",
    "print(f\"\\n数据集形状:{df.shape[0]}行, {df.shape[1]}列\")\n",
    "print(\"\\n前三条记录\")\n",
    "print(df.head(3))\n",
    "print(\"\\n数据类型和缺失值统计：\")\n",
    "print(df.info())\n",
    "print(\"\\n缺失值统计：\")\n",
    "print(df.isnull().sum())"
   ],
   "id": "e3f41a54ad874bac",
   "outputs": [
    {
     "name": "stdout",
     "output_type": "stream",
     "text": [
      "2. 数据初始诊断\n",
      "\n",
      "数据集形状:77行, 11列\n",
      "\n",
      "前三条记录\n",
      "       fNAME     lNAME  Age  gender country  residence  entryEXAM  \\\n",
      "0  Christina    Binger   44  Female  Norway    Private         72   \n",
      "1       Alex  Walekhwa   60       M   Kenya    Private         79   \n",
      "2     Philip       Leo   25    Male  Uganda  Sognsvann         55   \n",
      "\n",
      "  prevEducation  studyHOURS  Python  DB  \n",
      "0       Masters         158    59.0  55  \n",
      "1       Diploma         150    60.0  75  \n",
      "2    HighSchool         130    74.0  50  \n",
      "\n",
      "数据类型和缺失值统计：\n",
      "<class 'pandas.core.frame.DataFrame'>\n",
      "RangeIndex: 77 entries, 0 to 76\n",
      "Data columns (total 11 columns):\n",
      " #   Column         Non-Null Count  Dtype  \n",
      "---  ------         --------------  -----  \n",
      " 0   fNAME          77 non-null     object \n",
      " 1   lNAME          77 non-null     object \n",
      " 2   Age            77 non-null     int64  \n",
      " 3   gender         77 non-null     object \n",
      " 4   country        77 non-null     object \n",
      " 5   residence      77 non-null     object \n",
      " 6   entryEXAM      77 non-null     int64  \n",
      " 7   prevEducation  77 non-null     object \n",
      " 8   studyHOURS     77 non-null     int64  \n",
      " 9   Python         75 non-null     float64\n",
      " 10  DB             77 non-null     int64  \n",
      "dtypes: float64(1), int64(4), object(6)\n",
      "memory usage: 6.7+ KB\n",
      "None\n",
      "\n",
      "缺失值统计：\n",
      "fNAME            0\n",
      "lNAME            0\n",
      "Age              0\n",
      "gender           0\n",
      "country          0\n",
      "residence        0\n",
      "entryEXAM        0\n",
      "prevEducation    0\n",
      "studyHOURS       0\n",
      "Python           2\n",
      "DB               0\n",
      "dtype: int64\n"
     ]
    }
   ],
   "execution_count": 26
  }
 ],
 "metadata": {
  "kernelspec": {
   "display_name": "Python 3",
   "language": "python",
   "name": "python3"
  },
  "language_info": {
   "codemirror_mode": {
    "name": "ipython",
    "version": 2
   },
   "file_extension": ".py",
   "mimetype": "text/x-python",
   "name": "python",
   "nbconvert_exporter": "python",
   "pygments_lexer": "ipython2",
   "version": "2.7.6"
  }
 },
 "nbformat": 4,
 "nbformat_minor": 5
}
